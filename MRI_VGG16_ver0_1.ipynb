{
  "nbformat": 4,
  "nbformat_minor": 0,
  "metadata": {
    "colab": {
      "provenance": [],
      "machine_shape": "hm"
    },
    "kernelspec": {
      "name": "python3",
      "display_name": "Python 3"
    },
    "accelerator": "GPU",
    "gpuClass": "standard"
  },
  "cells": [
    {
      "cell_type": "markdown",
      "source": [
        "## About: Use MRI scan images to classify into values\n",
        "## Date: 07/05/23"
      ],
      "metadata": {
        "id": "z-ytn79nF68v"
      }
    },
    {
      "cell_type": "markdown",
      "source": [
        "To classify MRI images of brain with tumors and brain with no tumors."
      ],
      "metadata": {
        "id": "ujVq0tieGqIC"
      }
    },
    {
      "cell_type": "code",
      "source": [
        "# importing necessary libraries\n",
        "import tensorflow as tf\n",
        "from tensorflow.keras.models import Sequential, Model\n",
        "from tensorflow.keras.layers import Dense, Flatten\n",
        "from tensorflow.keras.preprocessing.image import ImageDataGenerator\n",
        "\n",
        "import numpy as np\n",
        "import pandas as pd\n",
        "import os"
      ],
      "metadata": {
        "id": "aguBPDLAGdX4"
      },
      "execution_count": 1,
      "outputs": []
    },
    {
      "cell_type": "code",
      "source": [
        "# connect to google drive\n",
        "from google.colab import drive\n",
        "drive.mount('/content/drive')"
      ],
      "metadata": {
        "colab": {
          "base_uri": "https://localhost:8080/"
        },
        "id": "VKs4lDxuIqV-",
        "outputId": "3977571b-d698-44dc-b055-ba8eb18427ec"
      },
      "execution_count": 2,
      "outputs": [
        {
          "output_type": "stream",
          "name": "stdout",
          "text": [
            "Drive already mounted at /content/drive; to attempt to forcibly remount, call drive.mount(\"/content/drive\", force_remount=True).\n"
          ]
        }
      ]
    },
    {
      "cell_type": "code",
      "source": [
        "'''\n",
        "# read csv with descriptors\n",
        "df = pd.read_csv(\"/content/drive/My Drive/tox_files/descriptors.csv\")\n",
        "'''"
      ],
      "metadata": {
        "id": "vFrYLt7_KKub",
        "colab": {
          "base_uri": "https://localhost:8080/",
          "height": 36
        },
        "outputId": "09637536-6ea0-492d-fd05-e073afb3f43d"
      },
      "execution_count": 3,
      "outputs": [
        {
          "output_type": "execute_result",
          "data": {
            "text/plain": [
              "'\\n# read csv with descriptors\\ndf = pd.read_csv(\"/content/drive/My Drive/tox_files/descriptors.csv\")\\n'"
            ],
            "application/vnd.google.colaboratory.intrinsic+json": {
              "type": "string"
            }
          },
          "metadata": {},
          "execution_count": 3
        }
      ]
    },
    {
      "cell_type": "code",
      "source": [
        "# save to a list image names and their bmse value\n",
        "def load_images_from_folder(folder, yes_no_val): \n",
        "    \n",
        "    images = []\n",
        "    for filename in os.listdir(folder):\n",
        "      images.append([os.path.splitext(filename)[0]+\".jpg\", yes_no_val])\n",
        "\n",
        "    return images\n",
        "\n",
        "\n",
        "yes_images = load_images_from_folder('/content/drive/My Drive/brain_tumor_dataset/brain_tumor_dataset/yes', 1)\n",
        "no_images = load_images_from_folder('/content/drive/My Drive/brain_tumor_dataset/brain_tumor_dataset/no', 0)"
      ],
      "metadata": {
        "id": "Cf0qilARnJPW"
      },
      "execution_count": 4,
      "outputs": []
    },
    {
      "cell_type": "code",
      "source": [
        "# turn the list of image names to a dataframe\n",
        "# merge the two dataframes based on bmse column\n",
        "# drop duplicates and shuffle\n",
        "df_yes = pd.DataFrame (yes_images, columns = ['filename', 'yes/no'])\n",
        "df_no = pd.DataFrame (no_images, columns = ['filename', 'yes/no'])\n",
        "\n",
        "df = pd.concat([df_yes, df_no], axis=0)\n",
        "\n",
        "df = df.sample(frac=1)\n",
        "df.head(5)"
      ],
      "metadata": {
        "id": "YXnOowAroZIF",
        "colab": {
          "base_uri": "https://localhost:8080/",
          "height": 206
        },
        "outputId": "2d12bf7c-b578-4d06-f8de-9fa76727bd83"
      },
      "execution_count": 5,
      "outputs": [
        {
          "output_type": "execute_result",
          "data": {
            "text/plain": [
              "      filename  yes/no\n",
              "104     Y8.jpg       1\n",
              "50    9 no.jpg       0\n",
              "58    5 no.jpg       0\n",
              "88   no 95.jpg       0\n",
              "102    Y31.jpg       1"
            ],
            "text/html": [
              "\n",
              "  <div id=\"df-7fa0b197-70c7-40e6-b9ca-8dca7353a43e\">\n",
              "    <div class=\"colab-df-container\">\n",
              "      <div>\n",
              "<style scoped>\n",
              "    .dataframe tbody tr th:only-of-type {\n",
              "        vertical-align: middle;\n",
              "    }\n",
              "\n",
              "    .dataframe tbody tr th {\n",
              "        vertical-align: top;\n",
              "    }\n",
              "\n",
              "    .dataframe thead th {\n",
              "        text-align: right;\n",
              "    }\n",
              "</style>\n",
              "<table border=\"1\" class=\"dataframe\">\n",
              "  <thead>\n",
              "    <tr style=\"text-align: right;\">\n",
              "      <th></th>\n",
              "      <th>filename</th>\n",
              "      <th>yes/no</th>\n",
              "    </tr>\n",
              "  </thead>\n",
              "  <tbody>\n",
              "    <tr>\n",
              "      <th>104</th>\n",
              "      <td>Y8.jpg</td>\n",
              "      <td>1</td>\n",
              "    </tr>\n",
              "    <tr>\n",
              "      <th>50</th>\n",
              "      <td>9 no.jpg</td>\n",
              "      <td>0</td>\n",
              "    </tr>\n",
              "    <tr>\n",
              "      <th>58</th>\n",
              "      <td>5 no.jpg</td>\n",
              "      <td>0</td>\n",
              "    </tr>\n",
              "    <tr>\n",
              "      <th>88</th>\n",
              "      <td>no 95.jpg</td>\n",
              "      <td>0</td>\n",
              "    </tr>\n",
              "    <tr>\n",
              "      <th>102</th>\n",
              "      <td>Y31.jpg</td>\n",
              "      <td>1</td>\n",
              "    </tr>\n",
              "  </tbody>\n",
              "</table>\n",
              "</div>\n",
              "      <button class=\"colab-df-convert\" onclick=\"convertToInteractive('df-7fa0b197-70c7-40e6-b9ca-8dca7353a43e')\"\n",
              "              title=\"Convert this dataframe to an interactive table.\"\n",
              "              style=\"display:none;\">\n",
              "        \n",
              "  <svg xmlns=\"http://www.w3.org/2000/svg\" height=\"24px\"viewBox=\"0 0 24 24\"\n",
              "       width=\"24px\">\n",
              "    <path d=\"M0 0h24v24H0V0z\" fill=\"none\"/>\n",
              "    <path d=\"M18.56 5.44l.94 2.06.94-2.06 2.06-.94-2.06-.94-.94-2.06-.94 2.06-2.06.94zm-11 1L8.5 8.5l.94-2.06 2.06-.94-2.06-.94L8.5 2.5l-.94 2.06-2.06.94zm10 10l.94 2.06.94-2.06 2.06-.94-2.06-.94-.94-2.06-.94 2.06-2.06.94z\"/><path d=\"M17.41 7.96l-1.37-1.37c-.4-.4-.92-.59-1.43-.59-.52 0-1.04.2-1.43.59L10.3 9.45l-7.72 7.72c-.78.78-.78 2.05 0 2.83L4 21.41c.39.39.9.59 1.41.59.51 0 1.02-.2 1.41-.59l7.78-7.78 2.81-2.81c.8-.78.8-2.07 0-2.86zM5.41 20L4 18.59l7.72-7.72 1.47 1.35L5.41 20z\"/>\n",
              "  </svg>\n",
              "      </button>\n",
              "      \n",
              "  <style>\n",
              "    .colab-df-container {\n",
              "      display:flex;\n",
              "      flex-wrap:wrap;\n",
              "      gap: 12px;\n",
              "    }\n",
              "\n",
              "    .colab-df-convert {\n",
              "      background-color: #E8F0FE;\n",
              "      border: none;\n",
              "      border-radius: 50%;\n",
              "      cursor: pointer;\n",
              "      display: none;\n",
              "      fill: #1967D2;\n",
              "      height: 32px;\n",
              "      padding: 0 0 0 0;\n",
              "      width: 32px;\n",
              "    }\n",
              "\n",
              "    .colab-df-convert:hover {\n",
              "      background-color: #E2EBFA;\n",
              "      box-shadow: 0px 1px 2px rgba(60, 64, 67, 0.3), 0px 1px 3px 1px rgba(60, 64, 67, 0.15);\n",
              "      fill: #174EA6;\n",
              "    }\n",
              "\n",
              "    [theme=dark] .colab-df-convert {\n",
              "      background-color: #3B4455;\n",
              "      fill: #D2E3FC;\n",
              "    }\n",
              "\n",
              "    [theme=dark] .colab-df-convert:hover {\n",
              "      background-color: #434B5C;\n",
              "      box-shadow: 0px 1px 3px 1px rgba(0, 0, 0, 0.15);\n",
              "      filter: drop-shadow(0px 1px 2px rgba(0, 0, 0, 0.3));\n",
              "      fill: #FFFFFF;\n",
              "    }\n",
              "  </style>\n",
              "\n",
              "      <script>\n",
              "        const buttonEl =\n",
              "          document.querySelector('#df-7fa0b197-70c7-40e6-b9ca-8dca7353a43e button.colab-df-convert');\n",
              "        buttonEl.style.display =\n",
              "          google.colab.kernel.accessAllowed ? 'block' : 'none';\n",
              "\n",
              "        async function convertToInteractive(key) {\n",
              "          const element = document.querySelector('#df-7fa0b197-70c7-40e6-b9ca-8dca7353a43e');\n",
              "          const dataTable =\n",
              "            await google.colab.kernel.invokeFunction('convertToInteractive',\n",
              "                                                     [key], {});\n",
              "          if (!dataTable) return;\n",
              "\n",
              "          const docLinkHtml = 'Like what you see? Visit the ' +\n",
              "            '<a target=\"_blank\" href=https://colab.research.google.com/notebooks/data_table.ipynb>data table notebook</a>'\n",
              "            + ' to learn more about interactive tables.';\n",
              "          element.innerHTML = '';\n",
              "          dataTable['output_type'] = 'display_data';\n",
              "          await google.colab.output.renderOutput(dataTable, element);\n",
              "          const docLink = document.createElement('div');\n",
              "          docLink.innerHTML = docLinkHtml;\n",
              "          element.appendChild(docLink);\n",
              "        }\n",
              "      </script>\n",
              "    </div>\n",
              "  </div>\n",
              "  "
            ]
          },
          "metadata": {},
          "execution_count": 5
        }
      ]
    },
    {
      "cell_type": "code",
      "source": [
        "'''\n",
        "# leave only rows with specific values in specific columns (they will be our classess for classification)\n",
        "df = df.query(\"HBA == 2 | HBA == 3\")\n",
        "df.head(5)\n",
        "'''"
      ],
      "metadata": {
        "colab": {
          "base_uri": "https://localhost:8080/",
          "height": 36
        },
        "id": "TmdFWdvOoPRY",
        "outputId": "d1f61a0e-0c24-42d3-c18d-078aaa3fe4da"
      },
      "execution_count": 6,
      "outputs": [
        {
          "output_type": "execute_result",
          "data": {
            "text/plain": [
              "'\\n# leave only rows with specific values in specific columns (they will be our classess for classification)\\ndf = df.query(\"HBA == 2 | HBA == 3\")\\ndf.head(5)\\n'"
            ],
            "application/vnd.google.colaboratory.intrinsic+json": {
              "type": "string"
            }
          },
          "metadata": {},
          "execution_count": 6
        }
      ]
    },
    {
      "cell_type": "code",
      "source": [
        "# specify percentage of data used for training\n",
        "TRAIN_PCT = 0.9\n",
        "TRAIN_CUT = int(len(df) * TRAIN_PCT) \n",
        "\n",
        "# split the data to train, test and validation\n",
        "df_train = df[0:TRAIN_CUT]\n",
        "df_validate = df[TRAIN_CUT:]\n",
        "df_test = df_train[0:4]\n",
        "df_train = df_train[4:]\n",
        "\n",
        "# print their sizes\n",
        "print(f'Train size: {len(df_train)}')\n",
        "print(f'Validation size: {len(df_validate)}')\n",
        "print(f'Test size: {len(df_test)}')"
      ],
      "metadata": {
        "id": "1vAIRytlq2xR",
        "colab": {
          "base_uri": "https://localhost:8080/"
        },
        "outputId": "886c7547-e5c1-4332-d3c6-6786625b7f5e"
      },
      "execution_count": 7,
      "outputs": [
        {
          "output_type": "stream",
          "name": "stdout",
          "text": [
            "Train size: 223\n",
            "Validation size: 26\n",
            "Test size: 4\n"
          ]
        }
      ]
    },
    {
      "cell_type": "code",
      "source": [
        "# specify values that go into ImageDataGenerator and CNN model\n",
        "IMAGES_DIR = '/content/drive/My Drive/brain_tumor_dataset/brain_tumor_dataset/both'\n",
        "Y_COL = \"yes/no\"\n",
        "HEIGHT = 300\n",
        "WIDTH = 300\n",
        "BATCH = 6\n",
        "EPOCHS = 50"
      ],
      "metadata": {
        "id": "pPLoQ_jhsB8N"
      },
      "execution_count": 8,
      "outputs": []
    },
    {
      "cell_type": "code",
      "source": [
        "# improve amount of data using ImageDataGenerator\n",
        "training_datagen = ImageDataGenerator(\n",
        "    rescale = 1./255,\n",
        "    horizontal_flip=True,\n",
        "    vertical_flip=True,\n",
        "    fill_mode='nearest'\n",
        ")\n",
        "\n",
        "train_generator = training_datagen.flow_from_dataframe(\n",
        "    dataframe=df_train,\n",
        "    directory=IMAGES_DIR,\n",
        "    x_col=\"filename\",\n",
        "    y_col=Y_COL,\n",
        "    target_size=(HEIGHT,WIDTH),\n",
        "    batch_size=BATCH,\n",
        "    class_mode='other'\n",
        ")\n",
        "\n",
        "validation_datagen = ImageDataGenerator(rescale = 1./255)\n",
        "\n",
        "val_generator = validation_datagen.flow_from_dataframe(\n",
        "        dataframe=df_validate,\n",
        "        directory=IMAGES_DIR,\n",
        "        x_col=\"filename\",\n",
        "        y_col=Y_COL,\n",
        "        target_size=(HEIGHT,WIDTH),\n",
        "        class_mode='other')"
      ],
      "metadata": {
        "id": "BTZtD9omA48q",
        "colab": {
          "base_uri": "https://localhost:8080/"
        },
        "outputId": "37f1ac39-5c24-4696-ee78-892c1549945e"
      },
      "execution_count": 9,
      "outputs": [
        {
          "output_type": "stream",
          "name": "stdout",
          "text": [
            "Found 151 validated image filenames.\n",
            "Found 17 validated image filenames.\n"
          ]
        },
        {
          "output_type": "stream",
          "name": "stderr",
          "text": [
            "/usr/local/lib/python3.10/dist-packages/keras/preprocessing/image.py:1137: UserWarning: Found 72 invalid image filename(s) in x_col=\"filename\". These filename(s) will be ignored.\n",
            "  warnings.warn(\n",
            "/usr/local/lib/python3.10/dist-packages/keras/preprocessing/image.py:1137: UserWarning: Found 9 invalid image filename(s) in x_col=\"filename\". These filename(s) will be ignored.\n",
            "  warnings.warn(\n"
          ]
        }
      ]
    },
    {
      "cell_type": "code",
      "source": [
        "from keras.applications import vgg16\n",
        "\n",
        "vgg = vgg16.VGG16(weights = 'imagenet', \n",
        "                 include_top = False, \n",
        "                 input_shape = (HEIGHT, WIDTH, 3))\n",
        "\n",
        "# Here we freeze the last 4 layers \n",
        "# Layers are set to trainable as True by default\n",
        "for layer in vgg.layers:\n",
        "    layer.trainable = False\n",
        "    \n",
        "# Let's print our layers \n",
        "for (i,layer) in enumerate(vgg.layers):\n",
        "    print(str(i) + \" \"+ layer.__class__.__name__, layer.trainable)\n",
        "    "
      ],
      "metadata": {
        "id": "SkH8zAemvitC",
        "colab": {
          "base_uri": "https://localhost:8080/"
        },
        "outputId": "57c6507a-7663-4e21-927c-17cdf13afc76"
      },
      "execution_count": 10,
      "outputs": [
        {
          "output_type": "stream",
          "name": "stdout",
          "text": [
            "0 InputLayer False\n",
            "1 Conv2D False\n",
            "2 Conv2D False\n",
            "3 MaxPooling2D False\n",
            "4 Conv2D False\n",
            "5 Conv2D False\n",
            "6 MaxPooling2D False\n",
            "7 Conv2D False\n",
            "8 Conv2D False\n",
            "9 Conv2D False\n",
            "10 MaxPooling2D False\n",
            "11 Conv2D False\n",
            "12 Conv2D False\n",
            "13 Conv2D False\n",
            "14 MaxPooling2D False\n",
            "15 Conv2D False\n",
            "16 Conv2D False\n",
            "17 Conv2D False\n",
            "18 MaxPooling2D False\n"
          ]
        }
      ]
    },
    {
      "cell_type": "code",
      "source": [
        "def lw(bottom_model, num_classes):\n",
        "\n",
        "    top_model = bottom_model.output\n",
        "    top_model = GlobalAveragePooling2D()(top_model)\n",
        "    top_model = Dense(1024,activation='relu')(top_model)\n",
        "    top_model = Dense(1024,activation='relu')(top_model)\n",
        "    top_model = Dense(512,activation='relu')(top_model)\n",
        "    top_model = Dense(num_classes,activation='sigmoid')(top_model)\n",
        "    return top_model "
      ],
      "metadata": {
        "id": "Yjh50kJEllH9"
      },
      "execution_count": 11,
      "outputs": []
    },
    {
      "cell_type": "code",
      "source": [
        "from keras.models import Sequential\n",
        "from keras.layers import Dense, Dropout, Activation, Flatten, GlobalAveragePooling2D\n",
        "from keras.layers import Conv2D, MaxPooling2D, ZeroPadding2D\n",
        "\n",
        "from keras.models import Model\n",
        "\n",
        "\n",
        "num_classes = 1\n",
        "\n",
        "FC_Head = lw(vgg, num_classes)\n",
        "\n",
        "model = Model(inputs = vgg.input, outputs = FC_Head)\n",
        "\n",
        "print(model.summary())"
      ],
      "metadata": {
        "colab": {
          "base_uri": "https://localhost:8080/"
        },
        "id": "ZiQrNY-Klow2",
        "outputId": "0fb4b3b7-6933-4a88-d87a-6682631f3f4f"
      },
      "execution_count": 12,
      "outputs": [
        {
          "output_type": "stream",
          "name": "stdout",
          "text": [
            "Model: \"model\"\n",
            "_________________________________________________________________\n",
            " Layer (type)                Output Shape              Param #   \n",
            "=================================================================\n",
            " input_1 (InputLayer)        [(None, 300, 300, 3)]     0         \n",
            "                                                                 \n",
            " block1_conv1 (Conv2D)       (None, 300, 300, 64)      1792      \n",
            "                                                                 \n",
            " block1_conv2 (Conv2D)       (None, 300, 300, 64)      36928     \n",
            "                                                                 \n",
            " block1_pool (MaxPooling2D)  (None, 150, 150, 64)      0         \n",
            "                                                                 \n",
            " block2_conv1 (Conv2D)       (None, 150, 150, 128)     73856     \n",
            "                                                                 \n",
            " block2_conv2 (Conv2D)       (None, 150, 150, 128)     147584    \n",
            "                                                                 \n",
            " block2_pool (MaxPooling2D)  (None, 75, 75, 128)       0         \n",
            "                                                                 \n",
            " block3_conv1 (Conv2D)       (None, 75, 75, 256)       295168    \n",
            "                                                                 \n",
            " block3_conv2 (Conv2D)       (None, 75, 75, 256)       590080    \n",
            "                                                                 \n",
            " block3_conv3 (Conv2D)       (None, 75, 75, 256)       590080    \n",
            "                                                                 \n",
            " block3_pool (MaxPooling2D)  (None, 37, 37, 256)       0         \n",
            "                                                                 \n",
            " block4_conv1 (Conv2D)       (None, 37, 37, 512)       1180160   \n",
            "                                                                 \n",
            " block4_conv2 (Conv2D)       (None, 37, 37, 512)       2359808   \n",
            "                                                                 \n",
            " block4_conv3 (Conv2D)       (None, 37, 37, 512)       2359808   \n",
            "                                                                 \n",
            " block4_pool (MaxPooling2D)  (None, 18, 18, 512)       0         \n",
            "                                                                 \n",
            " block5_conv1 (Conv2D)       (None, 18, 18, 512)       2359808   \n",
            "                                                                 \n",
            " block5_conv2 (Conv2D)       (None, 18, 18, 512)       2359808   \n",
            "                                                                 \n",
            " block5_conv3 (Conv2D)       (None, 18, 18, 512)       2359808   \n",
            "                                                                 \n",
            " block5_pool (MaxPooling2D)  (None, 9, 9, 512)         0         \n",
            "                                                                 \n",
            " global_average_pooling2d (G  (None, 512)              0         \n",
            " lobalAveragePooling2D)                                          \n",
            "                                                                 \n",
            " dense (Dense)               (None, 1024)              525312    \n",
            "                                                                 \n",
            " dense_1 (Dense)             (None, 1024)              1049600   \n",
            "                                                                 \n",
            " dense_2 (Dense)             (None, 512)               524800    \n",
            "                                                                 \n",
            " dense_3 (Dense)             (None, 1)                 513       \n",
            "                                                                 \n",
            "=================================================================\n",
            "Total params: 16,814,913\n",
            "Trainable params: 2,100,225\n",
            "Non-trainable params: 14,714,688\n",
            "_________________________________________________________________\n",
            "None\n"
          ]
        }
      ]
    },
    {
      "cell_type": "code",
      "source": [
        "from tensorflow.keras.models import Model\n",
        "\n",
        "model.compile(optimizer='adam', loss = 'binary_crossentropy',metrics = ['accuracy'])\n",
        "history = model.fit(train_generator,\n",
        "                    epochs=EPOCHS, \n",
        "                    validation_data=val_generator,\n",
        "                    verbose = 1,\n",
        "                    initial_epoch=0)\n",
        "\n",
        "import matplotlib.pyplot as plt\n",
        "%matplotlib inline\n",
        "acc = history.history['accuracy']\n",
        "val_acc = history.history['val_accuracy']\n",
        "loss = history.history['loss']\n",
        "val_loss = history.history['val_loss']\n",
        "\n",
        "epochs = range(len(acc))\n",
        "\n",
        "plt.plot(epochs, acc, 'r', label='Training accuracy')\n",
        "plt.plot(epochs, val_acc, 'b', label='Validation accuracy')\n",
        "plt.title('Training and validation accuracy')\n",
        "plt.legend(loc=0)\n",
        "plt.figure()\n",
        "\n",
        "plt.show()"
      ],
      "metadata": {
        "colab": {
          "base_uri": "https://localhost:8080/",
          "height": 1000
        },
        "id": "wtiATdgPk06v",
        "outputId": "fc6bcc07-bb49-4915-96f1-0fa16de50389"
      },
      "execution_count": 13,
      "outputs": [
        {
          "output_type": "stream",
          "name": "stdout",
          "text": [
            "Epoch 1/50\n",
            "26/26 [==============================] - 17s 355ms/step - loss: 0.8148 - accuracy: 0.4834 - val_loss: 0.6895 - val_accuracy: 0.5294\n",
            "Epoch 2/50\n",
            "26/26 [==============================] - 2s 87ms/step - loss: 0.6886 - accuracy: 0.5166 - val_loss: 0.6583 - val_accuracy: 0.5294\n",
            "Epoch 3/50\n",
            "26/26 [==============================] - 2s 87ms/step - loss: 0.6087 - accuracy: 0.6490 - val_loss: 0.5206 - val_accuracy: 0.7059\n",
            "Epoch 4/50\n",
            "26/26 [==============================] - 2s 87ms/step - loss: 0.5671 - accuracy: 0.7219 - val_loss: 0.4024 - val_accuracy: 0.7647\n",
            "Epoch 5/50\n",
            "26/26 [==============================] - 3s 102ms/step - loss: 0.4747 - accuracy: 0.7483 - val_loss: 0.5736 - val_accuracy: 0.6471\n",
            "Epoch 6/50\n",
            "26/26 [==============================] - 2s 87ms/step - loss: 0.4162 - accuracy: 0.7748 - val_loss: 0.3071 - val_accuracy: 0.8235\n",
            "Epoch 7/50\n",
            "26/26 [==============================] - 2s 86ms/step - loss: 0.3736 - accuracy: 0.7881 - val_loss: 0.4737 - val_accuracy: 0.7059\n",
            "Epoch 8/50\n",
            "26/26 [==============================] - 2s 86ms/step - loss: 0.3510 - accuracy: 0.8609 - val_loss: 0.2794 - val_accuracy: 0.8824\n",
            "Epoch 9/50\n",
            "26/26 [==============================] - 3s 99ms/step - loss: 0.3526 - accuracy: 0.8278 - val_loss: 0.2886 - val_accuracy: 0.8824\n",
            "Epoch 10/50\n",
            "26/26 [==============================] - 3s 101ms/step - loss: 0.3800 - accuracy: 0.8344 - val_loss: 1.0110 - val_accuracy: 0.6471\n",
            "Epoch 11/50\n",
            "26/26 [==============================] - 2s 87ms/step - loss: 0.3207 - accuracy: 0.8742 - val_loss: 0.4566 - val_accuracy: 0.8235\n",
            "Epoch 12/50\n",
            "26/26 [==============================] - 2s 84ms/step - loss: 0.2197 - accuracy: 0.9139 - val_loss: 0.3297 - val_accuracy: 0.8235\n",
            "Epoch 13/50\n",
            "26/26 [==============================] - 2s 84ms/step - loss: 0.2879 - accuracy: 0.8808 - val_loss: 0.7323 - val_accuracy: 0.6471\n",
            "Epoch 14/50\n",
            "26/26 [==============================] - 3s 100ms/step - loss: 0.2936 - accuracy: 0.8675 - val_loss: 0.3097 - val_accuracy: 0.8235\n",
            "Epoch 15/50\n",
            "26/26 [==============================] - 3s 95ms/step - loss: 0.2612 - accuracy: 0.8742 - val_loss: 0.4383 - val_accuracy: 0.8824\n",
            "Epoch 16/50\n",
            "26/26 [==============================] - 3s 103ms/step - loss: 0.2535 - accuracy: 0.8874 - val_loss: 0.4816 - val_accuracy: 0.8824\n",
            "Epoch 17/50\n",
            "26/26 [==============================] - 2s 85ms/step - loss: 0.2831 - accuracy: 0.8874 - val_loss: 0.2860 - val_accuracy: 0.8824\n",
            "Epoch 18/50\n",
            "26/26 [==============================] - 3s 98ms/step - loss: 0.2237 - accuracy: 0.9272 - val_loss: 1.2536 - val_accuracy: 0.6471\n",
            "Epoch 19/50\n",
            "26/26 [==============================] - 2s 86ms/step - loss: 0.2567 - accuracy: 0.9139 - val_loss: 0.2546 - val_accuracy: 0.8824\n",
            "Epoch 20/50\n",
            "26/26 [==============================] - 2s 85ms/step - loss: 0.2377 - accuracy: 0.9272 - val_loss: 0.3016 - val_accuracy: 0.8235\n",
            "Epoch 21/50\n",
            "26/26 [==============================] - 2s 86ms/step - loss: 0.2484 - accuracy: 0.9205 - val_loss: 0.5157 - val_accuracy: 0.8235\n",
            "Epoch 22/50\n",
            "26/26 [==============================] - 2s 85ms/step - loss: 0.2513 - accuracy: 0.9007 - val_loss: 0.8520 - val_accuracy: 0.7647\n",
            "Epoch 23/50\n",
            "26/26 [==============================] - 3s 101ms/step - loss: 0.3535 - accuracy: 0.8543 - val_loss: 0.7525 - val_accuracy: 0.6471\n",
            "Epoch 24/50\n",
            "26/26 [==============================] - 2s 90ms/step - loss: 0.2387 - accuracy: 0.8940 - val_loss: 0.2823 - val_accuracy: 0.8235\n",
            "Epoch 25/50\n",
            "26/26 [==============================] - 2s 84ms/step - loss: 0.1778 - accuracy: 0.9470 - val_loss: 0.2346 - val_accuracy: 0.8235\n",
            "Epoch 26/50\n",
            "26/26 [==============================] - 2s 85ms/step - loss: 0.1967 - accuracy: 0.9073 - val_loss: 0.4648 - val_accuracy: 0.8235\n",
            "Epoch 27/50\n",
            "26/26 [==============================] - 2s 85ms/step - loss: 0.1052 - accuracy: 0.9536 - val_loss: 0.8710 - val_accuracy: 0.7059\n",
            "Epoch 28/50\n",
            "26/26 [==============================] - 2s 85ms/step - loss: 0.2207 - accuracy: 0.9073 - val_loss: 0.3130 - val_accuracy: 0.8824\n",
            "Epoch 29/50\n",
            "26/26 [==============================] - 2s 89ms/step - loss: 0.1519 - accuracy: 0.9338 - val_loss: 0.2844 - val_accuracy: 0.8824\n",
            "Epoch 30/50\n",
            "26/26 [==============================] - 3s 100ms/step - loss: 0.1555 - accuracy: 0.9338 - val_loss: 0.1704 - val_accuracy: 0.9412\n",
            "Epoch 31/50\n",
            "26/26 [==============================] - 2s 86ms/step - loss: 0.2070 - accuracy: 0.9073 - val_loss: 0.2767 - val_accuracy: 0.8824\n",
            "Epoch 32/50\n",
            "26/26 [==============================] - 2s 85ms/step - loss: 0.1615 - accuracy: 0.9404 - val_loss: 0.3079 - val_accuracy: 0.8824\n",
            "Epoch 33/50\n",
            "26/26 [==============================] - 2s 84ms/step - loss: 0.1379 - accuracy: 0.9470 - val_loss: 0.2220 - val_accuracy: 0.8824\n",
            "Epoch 34/50\n",
            "26/26 [==============================] - 2s 90ms/step - loss: 0.2071 - accuracy: 0.9007 - val_loss: 0.3106 - val_accuracy: 0.8824\n",
            "Epoch 35/50\n",
            "26/26 [==============================] - 2s 90ms/step - loss: 0.1277 - accuracy: 0.9536 - val_loss: 0.7139 - val_accuracy: 0.7647\n",
            "Epoch 36/50\n",
            "26/26 [==============================] - 2s 86ms/step - loss: 0.2707 - accuracy: 0.8609 - val_loss: 0.4166 - val_accuracy: 0.7647\n",
            "Epoch 37/50\n",
            "26/26 [==============================] - 2s 86ms/step - loss: 0.1996 - accuracy: 0.9007 - val_loss: 0.1254 - val_accuracy: 0.9412\n",
            "Epoch 38/50\n",
            "26/26 [==============================] - 2s 85ms/step - loss: 0.2177 - accuracy: 0.9139 - val_loss: 0.5177 - val_accuracy: 0.7647\n",
            "Epoch 39/50\n",
            "26/26 [==============================] - 2s 86ms/step - loss: 0.0959 - accuracy: 0.9735 - val_loss: 0.2874 - val_accuracy: 0.8824\n",
            "Epoch 40/50\n",
            "26/26 [==============================] - 3s 100ms/step - loss: 0.1232 - accuracy: 0.9603 - val_loss: 0.6935 - val_accuracy: 0.7059\n",
            "Epoch 41/50\n",
            "26/26 [==============================] - 3s 101ms/step - loss: 0.1739 - accuracy: 0.9272 - val_loss: 0.2162 - val_accuracy: 0.8824\n",
            "Epoch 42/50\n",
            "26/26 [==============================] - 2s 85ms/step - loss: 0.1460 - accuracy: 0.9338 - val_loss: 1.1424 - val_accuracy: 0.6471\n",
            "Epoch 43/50\n",
            "26/26 [==============================] - 2s 85ms/step - loss: 0.2729 - accuracy: 0.8742 - val_loss: 0.2312 - val_accuracy: 0.8824\n",
            "Epoch 44/50\n",
            "26/26 [==============================] - 2s 86ms/step - loss: 0.1205 - accuracy: 0.9603 - val_loss: 0.2738 - val_accuracy: 0.8824\n",
            "Epoch 45/50\n",
            "26/26 [==============================] - 2s 85ms/step - loss: 0.1018 - accuracy: 0.9536 - val_loss: 0.3228 - val_accuracy: 0.8235\n",
            "Epoch 46/50\n",
            "26/26 [==============================] - 3s 99ms/step - loss: 0.1230 - accuracy: 0.9470 - val_loss: 0.5720 - val_accuracy: 0.7647\n",
            "Epoch 47/50\n",
            "26/26 [==============================] - 2s 91ms/step - loss: 0.1251 - accuracy: 0.9603 - val_loss: 0.3059 - val_accuracy: 0.8824\n",
            "Epoch 48/50\n",
            "26/26 [==============================] - 2s 85ms/step - loss: 0.0652 - accuracy: 0.9801 - val_loss: 0.5855 - val_accuracy: 0.7647\n",
            "Epoch 49/50\n",
            "26/26 [==============================] - 2s 84ms/step - loss: 0.0697 - accuracy: 0.9669 - val_loss: 0.9444 - val_accuracy: 0.7647\n",
            "Epoch 50/50\n",
            "26/26 [==============================] - 2s 85ms/step - loss: 0.3284 - accuracy: 0.8874 - val_loss: 0.3677 - val_accuracy: 0.8235\n"
          ]
        },
        {
          "output_type": "display_data",
          "data": {
            "text/plain": [
              "<Figure size 640x480 with 1 Axes>"
            ],
            "image/png": "[encoded data removed]"
          },
          "metadata": {}
        },
        {
          "output_type": "display_data",
          "data": {
            "text/plain": [
              "<Figure size 640x480 with 0 Axes>"
            ]
          },
          "metadata": {}
        }
      ]
    },
    {
      "cell_type": "code",
      "source": [
        "'''\n",
        "# loading test images paths into df\n",
        "# drop duplicates\n",
        "# add the column with target values\n",
        "TEST_IMAGES_DIR = '/content/drive/My Drive/tox_files/test_images'\n",
        "test_images = load_images_from_folder(TEST_IMAGES_DIR)\n",
        "df_test = pd.DataFrame (test_images, columns = ['filename', 'id'])\n",
        "df_test = df_test.drop_duplicates(subset=['id'])\n",
        "df_test = pd.merge(df_test,df[['id',Y_COL]],on='id', how='left')\n",
        "df_test.head(5)\n",
        "'''"
      ],
      "metadata": {
        "id": "-kGRNZ0D0k2E",
        "colab": {
          "base_uri": "https://localhost:8080/",
          "height": 55
        },
        "outputId": "139225e1-997e-407c-9b87-c21d5e945887"
      },
      "execution_count": 14,
      "outputs": [
        {
          "output_type": "execute_result",
          "data": {
            "text/plain": [
              "\"\\n# loading test images paths into df\\n# drop duplicates\\n# add the column with target values\\nTEST_IMAGES_DIR = '/content/drive/My Drive/tox_files/test_images'\\ntest_images = load_images_from_folder(TEST_IMAGES_DIR)\\ndf_test = pd.DataFrame (test_images, columns = ['filename', 'id'])\\ndf_test = df_test.drop_duplicates(subset=['id'])\\ndf_test = pd.merge(df_test,df[['id',Y_COL]],on='id', how='left')\\ndf_test.head(5)\\n\""
            ],
            "application/vnd.google.colaboratory.intrinsic+json": {
              "type": "string"
            }
          },
          "metadata": {},
          "execution_count": 14
        }
      ]
    },
    {
      "cell_type": "code",
      "source": [
        "# using ImageDataGenerator on test images\n",
        "test_datagen = ImageDataGenerator(rescale = 1./255)\n",
        "\n",
        "test_generator = test_datagen.flow_from_dataframe(\n",
        "        dataframe=df_test,\n",
        "        directory=IMAGES_DIR,\n",
        "        x_col=\"filename\",\n",
        "        batch_size=1,\n",
        "        shuffle=False,\n",
        "        target_size=(HEIGHT,WIDTH),\n",
        "        class_mode=None)"
      ],
      "metadata": {
        "id": "iSKP1nk2ws0g",
        "colab": {
          "base_uri": "https://localhost:8080/"
        },
        "outputId": "5d0ef79c-f796-4dc9-c49f-fa492b385f7e"
      },
      "execution_count": 15,
      "outputs": [
        {
          "output_type": "stream",
          "name": "stdout",
          "text": [
            "Found 4 validated image filenames.\n"
          ]
        }
      ]
    },
    {
      "cell_type": "code",
      "source": [
        "# reseting the generator and predicting the values\n",
        "test_generator.reset()\n",
        "pred = model.predict(test_generator)"
      ],
      "metadata": {
        "id": "f66rRf4q07MX",
        "colab": {
          "base_uri": "https://localhost:8080/"
        },
        "outputId": "8a57b057-c7d6-40bf-f0fd-d1fd03cc7cb4"
      },
      "execution_count": 16,
      "outputs": [
        {
          "output_type": "stream",
          "name": "stdout",
          "text": [
            "4/4 [==============================] - 0s 11ms/step\n"
          ]
        }
      ]
    },
    {
      "cell_type": "code",
      "source": [
        "# add new column with predicted values\n",
        "# predicted values should be beside actual values \n",
        "df_test['Predicted values'] = pred\n",
        "df_test"
      ],
      "metadata": {
        "id": "vx0CxLDBAOVH",
        "colab": {
          "base_uri": "https://localhost:8080/",
          "height": 175
        },
        "outputId": "bea2f930-3de4-4153-a9fd-203a608f74ec"
      },
      "execution_count": 18,
      "outputs": [
        {
          "output_type": "execute_result",
          "data": {
            "text/plain": [
              "      filename  yes/no  Predicted values\n",
              "104     Y8.jpg       1          0.528841\n",
              "50    9 no.jpg       0          0.038394\n",
              "58    5 no.jpg       0          0.005197\n",
              "88   no 95.jpg       0          0.162847"
            ],
            "text/html": [
              "\n",
              "  <div id=\"df-e6c2b675-52ea-411a-919c-da0204284251\">\n",
              "    <div class=\"colab-df-container\">\n",
              "      <div>\n",
              "<style scoped>\n",
              "    .dataframe tbody tr th:only-of-type {\n",
              "        vertical-align: middle;\n",
              "    }\n",
              "\n",
              "    .dataframe tbody tr th {\n",
              "        vertical-align: top;\n",
              "    }\n",
              "\n",
              "    .dataframe thead th {\n",
              "        text-align: right;\n",
              "    }\n",
              "</style>\n",
              "<table border=\"1\" class=\"dataframe\">\n",
              "  <thead>\n",
              "    <tr style=\"text-align: right;\">\n",
              "      <th></th>\n",
              "      <th>filename</th>\n",
              "      <th>yes/no</th>\n",
              "      <th>Predicted values</th>\n",
              "    </tr>\n",
              "  </thead>\n",
              "  <tbody>\n",
              "    <tr>\n",
              "      <th>104</th>\n",
              "      <td>Y8.jpg</td>\n",
              "      <td>1</td>\n",
              "      <td>0.528841</td>\n",
              "    </tr>\n",
              "    <tr>\n",
              "      <th>50</th>\n",
              "      <td>9 no.jpg</td>\n",
              "      <td>0</td>\n",
              "      <td>0.038394</td>\n",
              "    </tr>\n",
              "    <tr>\n",
              "      <th>58</th>\n",
              "      <td>5 no.jpg</td>\n",
              "      <td>0</td>\n",
              "      <td>0.005197</td>\n",
              "    </tr>\n",
              "    <tr>\n",
              "      <th>88</th>\n",
              "      <td>no 95.jpg</td>\n",
              "      <td>0</td>\n",
              "      <td>0.162847</td>\n",
              "    </tr>\n",
              "  </tbody>\n",
              "</table>\n",
              "</div>\n",
              "      <button class=\"colab-df-convert\" onclick=\"convertToInteractive('df-e6c2b675-52ea-411a-919c-da0204284251')\"\n",
              "              title=\"Convert this dataframe to an interactive table.\"\n",
              "              style=\"display:none;\">\n",
              "        \n",
              "  <svg xmlns=\"http://www.w3.org/2000/svg\" height=\"24px\"viewBox=\"0 0 24 24\"\n",
              "       width=\"24px\">\n",
              "    <path d=\"M0 0h24v24H0V0z\" fill=\"none\"/>\n",
              "    <path d=\"M18.56 5.44l.94 2.06.94-2.06 2.06-.94-2.06-.94-.94-2.06-.94 2.06-2.06.94zm-11 1L8.5 8.5l.94-2.06 2.06-.94-2.06-.94L8.5 2.5l-.94 2.06-2.06.94zm10 10l.94 2.06.94-2.06 2.06-.94-2.06-.94-.94-2.06-.94 2.06-2.06.94z\"/><path d=\"M17.41 7.96l-1.37-1.37c-.4-.4-.92-.59-1.43-.59-.52 0-1.04.2-1.43.59L10.3 9.45l-7.72 7.72c-.78.78-.78 2.05 0 2.83L4 21.41c.39.39.9.59 1.41.59.51 0 1.02-.2 1.41-.59l7.78-7.78 2.81-2.81c.8-.78.8-2.07 0-2.86zM5.41 20L4 18.59l7.72-7.72 1.47 1.35L5.41 20z\"/>\n",
              "  </svg>\n",
              "      </button>\n",
              "      \n",
              "  <style>\n",
              "    .colab-df-container {\n",
              "      display:flex;\n",
              "      flex-wrap:wrap;\n",
              "      gap: 12px;\n",
              "    }\n",
              "\n",
              "    .colab-df-convert {\n",
              "      background-color: #E8F0FE;\n",
              "      border: none;\n",
              "      border-radius: 50%;\n",
              "      cursor: pointer;\n",
              "      display: none;\n",
              "      fill: #1967D2;\n",
              "      height: 32px;\n",
              "      padding: 0 0 0 0;\n",
              "      width: 32px;\n",
              "    }\n",
              "\n",
              "    .colab-df-convert:hover {\n",
              "      background-color: #E2EBFA;\n",
              "      box-shadow: 0px 1px 2px rgba(60, 64, 67, 0.3), 0px 1px 3px 1px rgba(60, 64, 67, 0.15);\n",
              "      fill: #174EA6;\n",
              "    }\n",
              "\n",
              "    [theme=dark] .colab-df-convert {\n",
              "      background-color: #3B4455;\n",
              "      fill: #D2E3FC;\n",
              "    }\n",
              "\n",
              "    [theme=dark] .colab-df-convert:hover {\n",
              "      background-color: #434B5C;\n",
              "      box-shadow: 0px 1px 3px 1px rgba(0, 0, 0, 0.15);\n",
              "      filter: drop-shadow(0px 1px 2px rgba(0, 0, 0, 0.3));\n",
              "      fill: #FFFFFF;\n",
              "    }\n",
              "  </style>\n",
              "\n",
              "      <script>\n",
              "        const buttonEl =\n",
              "          document.querySelector('#df-e6c2b675-52ea-411a-919c-da0204284251 button.colab-df-convert');\n",
              "        buttonEl.style.display =\n",
              "          google.colab.kernel.accessAllowed ? 'block' : 'none';\n",
              "\n",
              "        async function convertToInteractive(key) {\n",
              "          const element = document.querySelector('#df-e6c2b675-52ea-411a-919c-da0204284251');\n",
              "          const dataTable =\n",
              "            await google.colab.kernel.invokeFunction('convertToInteractive',\n",
              "                                                     [key], {});\n",
              "          if (!dataTable) return;\n",
              "\n",
              "          const docLinkHtml = 'Like what you see? Visit the ' +\n",
              "            '<a target=\"_blank\" href=https://colab.research.google.com/notebooks/data_table.ipynb>data table notebook</a>'\n",
              "            + ' to learn more about interactive tables.';\n",
              "          element.innerHTML = '';\n",
              "          dataTable['output_type'] = 'display_data';\n",
              "          await google.colab.output.renderOutput(dataTable, element);\n",
              "          const docLink = document.createElement('div');\n",
              "          docLink.innerHTML = docLinkHtml;\n",
              "          element.appendChild(docLink);\n",
              "        }\n",
              "      </script>\n",
              "    </div>\n",
              "  </div>\n",
              "  "
            ]
          },
          "metadata": {},
          "execution_count": 18
        }
      ]
    }
  ]
}